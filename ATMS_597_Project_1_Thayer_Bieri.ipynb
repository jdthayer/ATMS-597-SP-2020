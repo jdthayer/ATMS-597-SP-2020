{
  "nbformat": 4,
  "nbformat_minor": 0,
  "metadata": {
    "colab": {
      "name": "Copy of ATMS-597-Project-1_Thayer.ipynb",
      "provenance": [],
      "collapsed_sections": [],
      "include_colab_link": true
    },
    "kernelspec": {
      "name": "python3",
      "display_name": "Python 3"
    }
  },
  "cells": [
    {
      "cell_type": "markdown",
      "metadata": {
        "id": "view-in-github",
        "colab_type": "text"
      },
      "source": [
        "<a href=\"https://colab.research.google.com/github/bieri2/ATMS-597-SP-2020/blob/edits/Copy_of_ATMS_597_Project_1_Thayer_Bieri.ipynb\" target=\"_parent\"><img src=\"https://colab.research.google.com/assets/colab-badge.svg\" alt=\"Open In Colab\"/></a>"
      ]
    },
    {
      "cell_type": "markdown",
      "metadata": {
        "id": "KnNoTce5eqR-",
        "colab_type": "text"
      },
      "source": [
        "ATMS-597-SP-2020 Project 1\n",
        "Task: Create an object-oriented python module that converts temperatures interchangeably between degrees Celsius, Fahrenheit, and Kelvin.\n",
        "\n",
        "Group Members:Jeffrey Thayer, Carolina Bieri, Rose Miller\n",
        "\n"
      ]
    },
    {
      "cell_type": "code",
      "metadata": {
        "id": "Gxr1-0QTBix5",
        "colab_type": "code",
        "outputId": "76a2328c-41b6-4684-e6d0-89b94cd7aca0",
        "colab": {
          "base_uri": "https://localhost:8080/",
          "height": 731
        }
      },
      "source": [
        "!apt-get -qq install libproj-dev proj-data proj-bin libgeos-dev\n",
        "!pip install Cython\n",
        "!pip install cartopy"
      ],
      "execution_count": 0,
      "outputs": [
        {
          "output_type": "stream",
          "text": [
            "Selecting previously unselected package libgeos-dev.\n",
            "(Reading database ... 135004 files and directories currently installed.)\n",
            "Preparing to unpack .../libgeos-dev_3.6.2-1build2_amd64.deb ...\n",
            "Unpacking libgeos-dev (3.6.2-1build2) ...\n",
            "Selecting previously unselected package libproj-dev:amd64.\n",
            "Preparing to unpack .../libproj-dev_4.9.3-2_amd64.deb ...\n",
            "Unpacking libproj-dev:amd64 (4.9.3-2) ...\n",
            "Selecting previously unselected package proj-bin.\n",
            "Preparing to unpack .../proj-bin_4.9.3-2_amd64.deb ...\n",
            "Unpacking proj-bin (4.9.3-2) ...\n",
            "Setting up libproj-dev:amd64 (4.9.3-2) ...\n",
            "Setting up libgeos-dev (3.6.2-1build2) ...\n",
            "Setting up proj-bin (4.9.3-2) ...\n",
            "Processing triggers for man-db (2.8.3-2ubuntu0.1) ...\n",
            "Requirement already satisfied: Cython in /usr/local/lib/python3.6/dist-packages (0.29.14)\n",
            "Collecting cartopy\n",
            "\u001b[?25l  Downloading https://files.pythonhosted.org/packages/e5/92/fe8838fa8158931906dfc4f16c5c1436b3dd2daf83592645b179581403ad/Cartopy-0.17.0.tar.gz (8.9MB)\n",
            "\u001b[K     |████████████████████████████████| 8.9MB 3.4MB/s \n",
            "\u001b[?25h  Installing build dependencies ... \u001b[?25l\u001b[?25hdone\n",
            "  Getting requirements to build wheel ... \u001b[?25l\u001b[?25hdone\n",
            "    Preparing wheel metadata ... \u001b[?25l\u001b[?25hdone\n",
            "Requirement already satisfied: numpy>=1.10 in /usr/local/lib/python3.6/dist-packages (from cartopy) (1.17.5)\n",
            "Requirement already satisfied: setuptools>=0.7.2 in /usr/local/lib/python3.6/dist-packages (from cartopy) (42.0.2)\n",
            "Requirement already satisfied: six>=1.3.0 in /usr/local/lib/python3.6/dist-packages (from cartopy) (1.12.0)\n",
            "Collecting pyshp>=1.1.4\n",
            "\u001b[?25l  Downloading https://files.pythonhosted.org/packages/27/16/3bf15aa864fb77845fab8007eda22c2bd67bd6c1fd13496df452c8c43621/pyshp-2.1.0.tar.gz (215kB)\n",
            "\u001b[K     |████████████████████████████████| 225kB 43.2MB/s \n",
            "\u001b[?25hRequirement already satisfied: shapely>=1.5.6 in /usr/local/lib/python3.6/dist-packages (from cartopy) (1.6.4.post2)\n",
            "Building wheels for collected packages: cartopy\n",
            "  Building wheel for cartopy (PEP 517) ... \u001b[?25l\u001b[?25hdone\n",
            "  Created wheel for cartopy: filename=Cartopy-0.17.0-cp36-cp36m-linux_x86_64.whl size=9713559 sha256=5d4885d7061bbe4d514be364d5a8f2812ed261479d8a0cfa48a532ecc1dbd55d\n",
            "  Stored in directory: /root/.cache/pip/wheels/cd/cf/40/539f798f94e921e94fd376a5f9d213a6febe77754c0b187c73\n",
            "Successfully built cartopy\n",
            "Building wheels for collected packages: pyshp\n",
            "  Building wheel for pyshp (setup.py) ... \u001b[?25l\u001b[?25hdone\n",
            "  Created wheel for pyshp: filename=pyshp-2.1.0-cp36-none-any.whl size=32607 sha256=eaac3cf24216d22d784e462d1869521977610ae5baf945eb8070a72089962938\n",
            "  Stored in directory: /root/.cache/pip/wheels/a6/0c/de/321b5192ad416b328975a2f0385f72c64db4656501eba7cc1a\n",
            "Successfully built pyshp\n",
            "Installing collected packages: pyshp, cartopy\n",
            "Successfully installed cartopy-0.17.0 pyshp-2.1.0\n"
          ],
          "name": "stdout"
        }
      ]
    },
    {
      "cell_type": "code",
      "metadata": {
        "id": "OCR0uXE4ybtc",
        "colab_type": "code",
        "colab": {}
      },
      "source": [
        "import numpy as np"
      ],
      "execution_count": 0,
      "outputs": []
    },
    {
      "cell_type": "code",
      "metadata": {
        "id": "kt-yPTgxeDe6",
        "colab_type": "code",
        "colab": {}
      },
      "source": [
        "#ATMS-597-Project\n",
        "class temp_array():\n",
        "  def __init__(self,temp_values,temp_units):\n",
        "    self.temp_values=temp_values\n",
        "    self.temp_units=temp_units\n",
        "  \n",
        "  def tempconvert(self,to):\n",
        "\n",
        "    if type(self.temp_values) == list:\n",
        "      self.temp_values = np.asarray(self.temp_values)\n",
        "\n",
        "    if self.temp_units==\"C\" and to== \"toC\":\n",
        "      print (\"Values are already in degrees C\")\n",
        "    elif self.temp_units==\"C\" and to==\"toK\":\n",
        "      return temp_array(self.temp_values + 273.15,\"K\")\n",
        "    elif self.temp_units==\"C\" and to==\"toF\":\n",
        "      return temp_array(self.temp_values * 9.0 / 5.0 + 32.0,\"F\")\n",
        "    elif self.temp_units==\"C\":\n",
        "      print(\"Error: incompatible temperature unit. Units converting to must be Fahrenheit or Kelvin.\")\n",
        "\n",
        "    if self.temp_units==\"K\" and to== \"toK\":\n",
        "      print (\"Values are already in degrees K\")\n",
        "    elif self.temp_units==\"K\" and to==\"toC\":\n",
        "      return temp_array(self.temp_values - 273.15,\"C\")\n",
        "    elif self.temp_units==\"K\" and to==\"toF\":\n",
        "      return temp_array((self.temp_values - 273.15) * 9.0 / 5.0 + 32.0,\"F\")\n",
        "    elif self.temp_units==\"K\":\n",
        "      print(\"Error: incompatible temperature unit. Units converting to must be Celsius or Fahrenheit.\")\n",
        "\n",
        "    if self.temp_units==\"F\" and to== \"toF\":\n",
        "      print (\"Values are already in degrees F\")\n",
        "    elif self.temp_units==\"F\" and to==\"toK\":\n",
        "      return temp_array((self.temp_values - 32.0) * (5.0 / 9.0) + 273.15,\"K\")\n",
        "    elif self.temp_units==\"F\" and to==\"toC\":\n",
        "      return temp_array((self.temp_values - 32.0) * (5.0 / 9.0),\"C\")\n",
        "    elif self.temp_units == \"F\":\n",
        "      print(\"Error: incompatible temperature unit. Units converting to must be Celsius or Kelvin.\")"
      ],
      "execution_count": 0,
      "outputs": []
    },
    {
      "cell_type": "code",
      "metadata": {
        "id": "tlKTunXgyiL3",
        "colab_type": "code",
        "outputId": "4eb81e9a-5644-49a6-951c-15e0acd0a874",
        "colab": {
          "base_uri": "https://localhost:8080/",
          "height": 69
        }
      },
      "source": [
        "if __name__ == \"__main__\":\n",
        "  temp = temp_array(50., 'C')\n",
        "  temp_in_K = temp.tempconvert('toK')\n",
        "  print('Original temp was ' + str(temp.temp_values) + str(temp.temp_units) +\n",
        "        ', new temp is ' + str(temp_in_K.temp_values) + str(temp_in_K.temp_units) + '.')\n",
        "\n",
        "  temp_arr = temp_array(np.asarray([50., 60., 70., 80.]), 'F')\n",
        "  temp_arr_in_C = temp_arr.tempconvert('toC')\n",
        "  print('Original temps were ' + str(temp_arr.temp_values) + str(temp_arr.temp_units) +\n",
        "        ', new temps are ' + str(temp_arr_in_C.temp_values) + str(temp_arr_in_C.temp_units) + '.')\n",
        "  \n",
        "  temp_list = temp_array([300., 270., 250., 299.], 'K')\n",
        "  temp_list_in_C = temp_list.tempconvert('toC')\n",
        "  print('Original temps were ' + str(temp_list.temp_values) + str(temp_list.temp_units) +\n",
        "        ', new temps are ' + str(temp_list_in_C.temp_values) + str(temp_list_in_C.temp_units) + '.')"
      ],
      "execution_count": 70,
      "outputs": [
        {
          "output_type": "stream",
          "text": [
            "Original temp was 50.0C, new temp is 323.15K.\n",
            "Original temps were [50. 60. 70. 80.]F, new temps are [10.         15.55555556 21.11111111 26.66666667]C.\n",
            "Original temps were [300. 270. 250. 299.]K, new temps are [ 26.85  -3.15 -23.15  25.85]C.\n"
          ],
          "name": "stdout"
        }
      ]
    },
    {
      "cell_type": "code",
      "metadata": {
        "id": "MBzkpRz5rr4C",
        "colab_type": "code",
        "colab": {}
      },
      "source": [
        ""
      ],
      "execution_count": 0,
      "outputs": []
    }
  ]
}
